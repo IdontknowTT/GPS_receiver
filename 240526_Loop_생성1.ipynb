{
 "cells": [
  {
   "cell_type": "markdown",
   "metadata": {},
   "source": [
    "코드 생성"
   ]
  },
  {
   "cell_type": "code",
   "execution_count": 419,
   "metadata": {},
   "outputs": [],
   "source": [
    "import numpy as np\n",
    "import matplotlib.pyplot as plt\n",
    "from scipy.signal import correlate\n",
    "\n",
    "from mpl_toolkits.mplot3d import Axes3D\n",
    "from collections import deque  \n",
    "import random as rand\n",
    "\n",
    "sats = [(1, 5), (2, 6), (3, 7), (4, 8), (0, 8), (1, 9), (0, 7), (1, 8), (2, 9), (1, 2),\n",
    "            (2, 3), (4, 5), (5, 6), (6, 7), (7, 8), (8, 9), (0, 3), (1, 4), (2, 5), (3, 6),\n",
    "            (4, 7), (5, 8), (0, 2), (3, 5), (4, 6), (5, 7), (6, 8), (7, 9), (0, 5), (1, 6),\n",
    "            (2, 7), (3, 8), (4, 9), (3, 9), (0, 6), (1, 7), (3, 9)]\n",
    "g1tap = [2,9]\n",
    "g2tap = [1,2,5,7,8,9]\n",
    "# -5000, -4500, -4000, -3500, -3000, -2500, -2000, -1500, -1000, -500, 0, 500, 1000, 1500, 2000, 2500, 3000, 3500, 4000, 4500, 5000\n",
    "def getCode(satsNum):\n",
    "    \n",
    "    g1 = deque(1 for i in range(10))\n",
    "    g2 = deque(1 for i in range(10))\n",
    "     \n",
    "    # result\n",
    "    g = []\n",
    "    \n",
    "    # Generating 1023 chips(One C/A sequence)\n",
    "    for i in range(1023):\n",
    "        val = (g1[9] + g2[satsNum[0]] + g2[satsNum[1]]) % 2\n",
    "        g.append(val)\n",
    "        \n",
    "        #shift g1\n",
    "        g1[9] = sum(g1[i] for i in g1tap) % 2\n",
    "        g1.rotate()\n",
    "        \n",
    "        #shift g2\n",
    "        g2[9] = sum(g2[i] for i in g2tap) % 2\n",
    "        g2.rotate()\n",
    "    # 0 => -1\n",
    "    for n,i in enumerate(g):\n",
    "            if i==0:\n",
    "                g[n]=-1\n",
    "        \n",
    "    return g\n",
    "\n",
    "# 코드 미리 만들어두기(시간복잡도 줄이려고)\n",
    "codes = []\n",
    "for i in range(37):\n",
    "    codes.append(getCode(sats[i]))"
   ]
  },
  {
   "cell_type": "code",
   "execution_count": 420,
   "metadata": {},
   "outputs": [],
   "source": [
    "OV = 10\n",
    "ms = 200 # message 한 bit 마다 20ms #원래는 2초 봐야해서 2000\n",
    "\n",
    "# C/A code Frequency : 1.023MHz\n",
    "# IF Frequency : 9.548MHz\n",
    "# Sampling rate : 38.192MHz\n",
    "# OV should be 4?\n",
    "# 알아낸 곳: Kai Borre의 A Software-Defined GPS and Galileo Receiver에서의 p.55(pdf 상으로는 70페이지)\n",
    "# 이것들 적용해야 하는데, 아직 할 줄 모른다..."
   ]
  },
  {
   "cell_type": "markdown",
   "metadata": {},
   "source": [
    "Noise 생성"
   ]
  },
  {
   "cell_type": "code",
   "execution_count": 421,
   "metadata": {},
   "outputs": [
    {
     "name": "stdout",
     "output_type": "stream",
     "text": [
      "Current Noise Power: 6.31\n"
     ]
    }
   ],
   "source": [
    "# 잡음의 전력 비 설정 (잡음은 전력 1, 신호전력은 1/6.31 이런 식으로 만들기)\n",
    "noise_power = 6.31 # For -8dB. If -22dB, set noise_power to 158.49\n",
    "\n",
    "# 6.31 ~ 158.49 중 랜덤하게 생성\n",
    "# noise_power = rand.uniform(6.31, 158.49)\n",
    "\n",
    "# 잡음의 길이 설정\n",
    "num_samples = 1023 *20 * (ms//20) * OV\n",
    "\n",
    "# 실수부와 허수부에 대한 잡음 생성\n",
    "real_noise = np.random.normal(0, 1/ (np.sqrt(2) * np.sqrt(OV)), num_samples) \n",
    "imaginary_noise = np.random.normal(0, 1/ (np.sqrt(2) * np.sqrt(OV)), num_samples) \n",
    "\n",
    "# 복소수로 변환\n",
    "complex_noise = (real_noise + 1j * imaginary_noise) \n",
    "\n",
    "# 신호가 쓸 거\n",
    "sigma = np.sqrt(noise_power)\n",
    "print(\"Current Noise Power:\", noise_power)"
   ]
  },
  {
   "cell_type": "markdown",
   "metadata": {},
   "source": [
    "Data 생성"
   ]
  },
  {
   "cell_type": "code",
   "execution_count": 422,
   "metadata": {},
   "outputs": [],
   "source": [
    "data = []\n",
    "for i in range(ms//20):\n",
    "    data.append(rand.choice([1,-1]))\n",
    "RN = rand.randint(0,36)\n",
    "t_code = codes[RN]\n",
    "t_code = [chip/(sigma*np.sqrt(OV)) for chip in t_code for _ in range(OV)]\n",
    "t_code_inv = [x*-1 for x in t_code]\n",
    "seq = []\n",
    "\n",
    "# data = [1,1,-1,-1,-1]\n",
    "\n",
    "for d in data:\n",
    "    if d == 1:\n",
    "        seq.extend(t_code*20)\n",
    "    else:\n",
    "        seq.extend(t_code_inv*20)\n",
    "\n"
   ]
  },
  {
   "cell_type": "markdown",
   "metadata": {},
   "source": [
    "Signal 생성"
   ]
  },
  {
   "cell_type": "code",
   "execution_count": 423,
   "metadata": {},
   "outputs": [],
   "source": [
    "class trans_signal:\n",
    "    def __init__(self, code_delay, doppler_freq, svNumber, code_freq, bits, OV):\n",
    "        self.delay = code_delay\n",
    "        self.doppler = doppler_freq\n",
    "        self.svNumber = svNumber\n",
    "        self.code_freq = code_freq\n",
    "        \n",
    "        self.seq = np.roll(seq, code_delay) # code_delay : delay된 sample 수\n",
    "        self.t = np.arange(1023 * OV * 20 * bits)\n",
    "        self.oversampled_signal = np.exp(1j * 2 * np.pi * (doppler_freq + code_freq) * self.t / (1.023e6 * OV))\n",
    "    def signal(self):\n",
    "        return self.seq * self.oversampled_signal + complex_noise       \n",
    "    def shift(self, tvar):\n",
    "        self.t = self.t + tvar\n",
    "        self.seq = np.roll(self.seq, -tvar)\n",
    "        self.oversampled_signal = np.exp(1j * 2 * np.pi * (self.doppler + self.code_freq) * self.t / (1.023e6 * OV))\n",
    "        "
   ]
  },
  {
   "cell_type": "markdown",
   "metadata": {},
   "source": [
    "Replica 신호 생성"
   ]
  },
  {
   "cell_type": "code",
   "execution_count": 424,
   "metadata": {},
   "outputs": [],
   "source": [
    "class Replica:\n",
    "    def __init__(self, code_delay, doppler_freq, code_freq, svNumber, signal_length, OV, ts, tvar):\n",
    "        ca_code = np.array(codes[svNumber])\n",
    "        ca_code = [chip for chip in ca_code for _ in range(OV)]\n",
    "        #temp1 = np.arange((1023 * OV * ts + tvar), (1023 * OV * ts + tvar + complement)) \n",
    "        #temp2 = np.arange((1023 * OV * ts + tvar + complement), (1023 * OV * ts + tvar + 1023* OV)) \n",
    "        t = np.arange((1023 * OV * ts + tvar), (1023 * OV * ts + tvar + 1023 * OV))\n",
    "        # if tvar != 0:\n",
    "        #    print(temp1[0], temp1[-1], temp2[0], temp2[-1])\n",
    "        self.delayed_code = np.roll(ca_code, code_delay)\n",
    "        self.oversampled_signal = np.exp(1j * 2 * np.pi * (doppler_freq + code_freq) * t / (1.023e6 * OV))\n",
    "    def delay(self, delay):\n",
    "        self.delayed_code = np.roll(self.delayed_code, delay)\n",
    "    def signal(self):\n",
    "        return self.delayed_code * self.oversampled_signal"
   ]
  },
  {
   "cell_type": "markdown",
   "metadata": {},
   "source": [
    "Acquisition 정의"
   ]
  },
  {
   "cell_type": "code",
   "execution_count": 425,
   "metadata": {},
   "outputs": [],
   "source": [
    "def acquisition(signal, code_delay_range, doppler_freq_range,code_freq, svNumber, OV):\n",
    "    \n",
    "    # 신호 1ms씩 쪼개기\n",
    "    sig = signal.signal()\n",
    "    div = [sig[i:i+(1023*OV)] for i in range(0,len(sig), 1023*OV)]\n",
    "    \n",
    "    # 1ms 안에서 F(code 혹은 frame delay & 주파수 offset 찾기)\n",
    "    max_corr = 0\n",
    "    max_code_delay = 0\n",
    "    max_doppler_freq = 0\n",
    "    corr_matrix = np.zeros((len(code_delay_range), len(doppler_freq_range)))\n",
    "    dop_freq_max = []\n",
    "    Fsignal = div[0] \n",
    "    for i, doppler_freq in enumerate(doppler_freq_range):\n",
    "        replica = Replica(code_delay_range[0], doppler_freq, code_freq, svNumber, 1023 * OV, OV, 0, 0)\n",
    "        dop= []\n",
    "        for j, code_delay in enumerate(code_delay_range):\n",
    "            \n",
    "            cor = np.abs(correlate(Fsignal, replica.signal(), mode='valid'))\n",
    "            peak = np.max(cor)\n",
    "            corr_matrix[j, i] = peak\n",
    "            dop.append(peak)\n",
    "            if peak > max_corr:\n",
    "                max_corr = peak\n",
    "                max_code_delay = code_delay\n",
    "                max_doppler_freq = doppler_freq\n",
    "            #replica = np.roll(replica, (OV if OV == 1 else OV//2)) # sampling 안 했을 경우 1씩, 했으면 0.5 chip씩 이동\n",
    "            replica.delay(OV if OV == 1 else OV//2)\n",
    "            \n",
    "        dop_freq_max.append(max(dop))\n",
    "    \n",
    "    print('-'*40)\n",
    "    print('Frame Sync completed.')\n",
    "    print('Frame delay :', max_code_delay/OV)\n",
    "    print('Estimated_Frequency Offset :', max_doppler_freq)\n",
    "    print('Max correlation :', max_corr)\n",
    "    print('-'*40)\n",
    "    \n",
    "    \n",
    "          \n",
    "    return max_code_delay, max_doppler_freq, corr_matrix, dop_freq_max\n",
    "    "
   ]
  },
  {
   "cell_type": "markdown",
   "metadata": {},
   "source": [
    "Acquisition 실행"
   ]
  },
  {
   "cell_type": "code",
   "execution_count": 426,
   "metadata": {},
   "outputs": [
    {
     "name": "stdout",
     "output_type": "stream",
     "text": [
      "----------------------------------------\n",
      "Frame Sync completed.\n",
      "Frame delay : 378.0\n",
      "Estimated_Frequency Offset : 1500.0\n",
      "Max correlation : 1170.3787355319416\n",
      "----------------------------------------\n",
      "\n",
      "------------------ Test ------------------\n",
      "Target SV Number: 37\n",
      "True Code Delay: 18791.9\n",
      "True doppler frequency: 1510\n",
      "----------------------------------------\n",
      "B : 18\n",
      "\n"
     ]
    }
   ],
   "source": [
    "code_delay_range = np.arange(0, 1023*OV, (OV if OV == 1 else OV//2))    # 단순히 F를 찾기 위한 범위 #늘려놓음-그래야 bit  boundary 찾는 의미 생기니까\n",
    "doppler_freq_range = np.linspace(-5000, 5000, 21)  # Adjusted range of Doppler frequency in Hz\n",
    "code_freq = 1.023e6  # Code frequency in Hz\n",
    "svNumber = RN\n",
    "\n",
    "# Generate received signal\n",
    "true_code_delay = rand.randint(0, (20* 1023)*OV) # Range of code delay in chips (0 ~ 1023*19 + F)\n",
    "# true_code_delay = 10230 * 5 + 6500\n",
    "true_doppler_freq = rand.randint(-5000,5000)\n",
    "true_doppler_freq = 1510\n",
    "\n",
    "received_signal = trans_signal(true_code_delay, true_doppler_freq, svNumber, code_freq, ms//20, OV)\n",
    "\n",
    "# Perform acquisition\n",
    "estimated_code_delay, estimated_doppler_freq, corr_matrix, dop_max= acquisition(received_signal, code_delay_range, doppler_freq_range, code_freq, svNumber,OV)\n",
    "\n",
    "print()\n",
    "print(\"-\"*18,'Test','-'*18)\n",
    "print(\"Target SV Number:\", svNumber + 1)\n",
    "print(\"True Code Delay:\", true_code_delay/OV) #frame delay?\n",
    "print(\"True doppler frequency:\", true_doppler_freq)\n",
    "print('-'*40) \n",
    "B = true_code_delay//(OV*1023)\n",
    "print(\"B :\", B)\n",
    "print()\n",
    "# for i in range(-10,11):\n",
    "#    print(f\"{i*500}Hz : {dop_max[i+10]}\")\n"
   ]
  },
  {
   "cell_type": "code",
   "execution_count": 427,
   "metadata": {},
   "outputs": [],
   "source": [
    "\n",
    "received_signal.shift(estimated_code_delay)\n",
    "sig = received_signal.signal()\n",
    "\n",
    "signal_div = []\n",
    "\n",
    "signal_div = [sig[i:i+(1023*OV)] for i in range(0,len(sig), 1023*OV)]\n",
    "cor_lst = []\n",
    "for i in range(ms):\n",
    "    True_replica = Replica(0, estimated_doppler_freq, code_freq, svNumber, 1023 * OV, OV, i, estimated_code_delay)\n",
    "    #print(True_replica)\n",
    "    #print(signal_div[i])\n",
    "    cor = correlate(signal_div[i], True_replica.signal(), mode = 'valid')\n",
    "    cor_lst.append(np.max(cor))\n",
    "    \n",
    "phase_diff = []\n",
    "for i in range(1, ms):\n",
    "        R = cor_lst[i-1] * np.conjugate(cor_lst[i])\n",
    "        phase_diff.append(np.arctan2(np.imag(R), np.real(R))) \n",
    "# R = cor_lst[0] * np.conjugate(cor_lst[-1])\n",
    "# phase_diff.append(np.arctan2(np.imag(R), np.real(R)))\n",
    "degree_list = [np.degrees(value) for value in phase_diff]"
   ]
  },
  {
   "cell_type": "code",
   "execution_count": 428,
   "metadata": {},
   "outputs": [
    {
     "data": {
      "text/plain": [
       "\"# Plotting\\nCode_Delay, Doppler_Freq = np.meshgrid(code_delay_range//OV, doppler_freq_range)\\nfig = plt.figure(figsize=(10, 7))\\nax = fig.add_subplot(111, projection='3d')\\nax.plot_surface(Code_Delay, Doppler_Freq, corr_matrix.T, cmap='viridis')\\nax.set_xlabel('Code Delay')\\nax.set_ylabel('Doppler Frequency (Hz)')\\nax.set_zlabel('Correlation')\\nax.set_title('Correlation vs Code Delay and Doppler Frequency')\\nplt.show()\""
      ]
     },
     "execution_count": 428,
     "metadata": {},
     "output_type": "execute_result"
    }
   ],
   "source": [
    "\"\"\"# Plotting\n",
    "Code_Delay, Doppler_Freq = np.meshgrid(code_delay_range//OV, doppler_freq_range)\n",
    "fig = plt.figure(figsize=(10, 7))\n",
    "ax = fig.add_subplot(111, projection='3d')\n",
    "ax.plot_surface(Code_Delay, Doppler_Freq, corr_matrix.T, cmap='viridis')\n",
    "ax.set_xlabel('Code Delay')\n",
    "ax.set_ylabel('Doppler Frequency (Hz)')\n",
    "ax.set_zlabel('Correlation')\n",
    "ax.set_title('Correlation vs Code Delay and Doppler Frequency')\n",
    "plt.show()\"\"\""
   ]
  },
  {
   "cell_type": "code",
   "execution_count": 429,
   "metadata": {},
   "outputs": [
    {
     "data": {
      "text/plain": [
       "'\\nfor idx, value in enumerate(degree_list):\\n    print(f\"Index {idx}: {value}\")\\n\\nplt.figure(figsize=(8, 8))\\nplt.scatter(np.real(cor_lst[:]), np.imag(cor_lst[:]), s=5)\\n\\nfor i, txt in enumerate(range(97, 0 + ms)):\\n    plt.annotate(f\\'{txt}\\', (np.real(cor_lst[i+97]), np.imag(cor_lst[i+97])), fontsize = 8)\\n    \\nfor i, txt in enumerate(range(0, 0 + B)):\\n    plt.annotate(f\\'{txt}\\', (np.real(cor_lst[i]), np.imag(cor_lst[i])), fontsize = 8)\\n        \\nplt.title(\"Estimated correlation list\")\\nplt.xlabel(\"Real Part\")\\nplt.ylabel(\"Imaginary Part\")\\nplt.grid(True)\\nplt.show()'"
      ]
     },
     "execution_count": 429,
     "metadata": {},
     "output_type": "execute_result"
    }
   ],
   "source": [
    "\"\"\"\n",
    "for idx, value in enumerate(degree_list):\n",
    "    print(f\"Index {idx}: {value}\")\n",
    "\n",
    "plt.figure(figsize=(8, 8))\n",
    "plt.scatter(np.real(cor_lst[:]), np.imag(cor_lst[:]), s=5)\n",
    "\n",
    "for i, txt in enumerate(range(97, 0 + ms)):\n",
    "    plt.annotate(f'{txt}', (np.real(cor_lst[i+97]), np.imag(cor_lst[i+97])), fontsize = 8)\n",
    "    \n",
    "for i, txt in enumerate(range(0, 0 + B)):\n",
    "    plt.annotate(f'{txt}', (np.real(cor_lst[i]), np.imag(cor_lst[i])), fontsize = 8)\n",
    "        \n",
    "plt.title(\"Estimated correlation list\")\n",
    "plt.xlabel(\"Real Part\")\n",
    "plt.ylabel(\"Imaginary Part\")\n",
    "plt.grid(True)\n",
    "plt.show()\"\"\"\n",
    "# 주파수 offset = 0일 때 1~20번은 오른쪽, 21~39번이 왼쪽에 있다면 bit boundary 잘 찾은거.(부호반전)\n",
    "# 위아래로 돌아간 거는 noise에 의한 영향 + 약간의 주파수 offset과 code delay에 관한 거."
   ]
  },
  {
   "cell_type": "markdown",
   "metadata": {},
   "source": [
    "Bit boundary 탐색"
   ]
  },
  {
   "cell_type": "code",
   "execution_count": 430,
   "metadata": {},
   "outputs": [
    {
     "name": "stdout",
     "output_type": "stream",
     "text": [
      "이상치: [176.52063793698792, 174.62435820441678, 175.11481519401624, 173.48749651293724, 176.59603405193744, 177.93914079047204]\n",
      "첫번째 이상치 176.52063793698792\n",
      "원래 18\n",
      "estimated B 18\n",
      "B 18\n"
     ]
    },
    {
     "data": {
      "text/plain": [
       "'\\ndef find_outliers_z_score(data, threshold=3):\\n    mean = np.mean(data)\\n    std = np.std(data)\\n    outliers = [(i + 20, x) for i, x in enumerate(data) if abs((x - mean) / std) > threshold]\\n    return outliers\\n\\ndl = degree_list[20:40]\\noutliers_z = find_outliers_z_score(dl)\\nprint(\"참고: 이상치 (Z-Score):\", outliers_z)'"
      ]
     },
     "execution_count": 430,
     "metadata": {},
     "output_type": "execute_result"
    }
   ],
   "source": [
    "def find_outliers(data):\n",
    "    outliers = []\n",
    "    threshold = 1.5 # 일반적으로는 1.5를 사용합니다.\n",
    "\n",
    "    data_sorted = sorted(data)\n",
    "    q1, q3 = np.percentile(data_sorted, [15, 85])\n",
    "    iqr = q3 - q1\n",
    "\n",
    "    lower_bound = q1 - (threshold * iqr)\n",
    "    upper_bound = q3 + (threshold * iqr)\n",
    "\n",
    "    for i, x in enumerate(data):\n",
    "        if x < lower_bound or x > upper_bound:\n",
    "            outliers.append(x)\n",
    "\n",
    "    return outliers\n",
    "\n",
    "outliers = find_outliers(degree_list)\n",
    "print(\"이상치:\", outliers)\n",
    "\n",
    "outlier_index = 0\n",
    "if len(outliers)>=1:\n",
    "    tmp = outliers[0]\n",
    "    print(\"첫번째 이상치\", tmp)\n",
    "    idx = degree_list.index(tmp)\n",
    "\n",
    "    outlier_index = idx + 1\n",
    "    print(\"원래\", outlier_index)\n",
    "\n",
    "    if outlier_index>=20:\n",
    "        outlier_index = outlier_index % 20\n",
    "        \n",
    "    print(\"estimated B\", outlier_index)\n",
    "    print(\"B\", B)\n",
    "elif len(outliers) == 0:\n",
    "    print(\"B = 0\")\n",
    "    \n",
    "# 이하 다른 알고리즘\n",
    "\"\"\"\n",
    "def find_outliers_z_score(data, threshold=3):\n",
    "    mean = np.mean(data)\n",
    "    std = np.std(data)\n",
    "    outliers = [(i + 20, x) for i, x in enumerate(data) if abs((x - mean) / std) > threshold]\n",
    "    return outliers\n",
    "\n",
    "dl = degree_list[20:40]\n",
    "outliers_z = find_outliers_z_score(dl)\n",
    "print(\"참고: 이상치 (Z-Score):\", outliers_z)\"\"\""
   ]
  },
  {
   "cell_type": "code",
   "execution_count": 431,
   "metadata": {},
   "outputs": [],
   "source": [
    "# 신호 재정의 : Bit boundary 만큼 뒤로 이동\n",
    "received_signal.shift(1023*OV * outlier_index)"
   ]
  },
  {
   "cell_type": "markdown",
   "metadata": {},
   "source": [
    "## Loop"
   ]
  },
  {
   "cell_type": "code",
   "execution_count": 432,
   "metadata": {},
   "outputs": [],
   "source": [
    "# 20ms 마다 수행하는걸로\n",
    "cur_no = 0\n",
    "current_code_delay = 1023 * OV * outlier_index + estimated_code_delay\n",
    "current_doppler_freq = estimated_doppler_freq\n",
    "phase_offset = 0\n",
    "# Plot 할 것들\n",
    "dop_freq_lst = [current_doppler_freq]\n",
    "phase_offset_lst = [np.pi]\n",
    "\n",
    "# DLL 추가하면 넣을 것\n",
    "# code_delay_lst = [current_code_delay] \n",
    "\n",
    "# 복조 결과\n",
    "result = []\n",
    "\n",
    "cor_result = []\n",
    "for L in range(ms//20):\n",
    "    sig = received_signal.signal()\n",
    "    signal_div = []\n",
    "    signal_div = [sig[i:i+(1023*OV)] for i in range(0,len(sig), 1023*OV)]\n",
    "    cor_lst = []\n",
    "\n",
    "    \n",
    "    for i in range(L*20, L*20 + 20):\n",
    "        True_replica = Replica(0, current_doppler_freq, code_freq, svNumber, 1023 * OV, OV, i, current_code_delay)\n",
    "        cor = correlate(signal_div[i], True_replica.signal(), mode = 'valid')\n",
    "        cor_lst.append(np.max(cor) * np.exp(1j * phase_offset))\n",
    "    cor_result.append(cor_lst)\n",
    "    \n",
    "    phase_diff = []\n",
    "    for i in range(1, 20):\n",
    "        R = cor_lst[i-1] * np.conjugate(cor_lst[i])\n",
    "        phase_diff.append(np.arctan2(np.imag(R), np.real(R))) \n",
    "\n",
    "    degree_list = [np.degrees(value) for value in phase_diff]\n",
    "    \n",
    "    \n",
    "    # Demodulation\n",
    "    Decision_variable = np.average(cor_lst)\n",
    "    # cor_result.append(Decision_variable)\n",
    "    if np.real(Decision_variable) > 0:\n",
    "        result.append(1)\n",
    "    else:\n",
    "        result.append(-1)\n",
    "    \n",
    "    \n",
    "    # FLL\n",
    "    # 의도적 성능 저하(Loop 시에 그래프 jitter 보려고) 초반 2개의 차이만 보고 평균 구하기\n",
    "    phase_diff_mean = np.average(phase_diff[:2])\n",
    "    degree_mean = np.degrees(phase_diff_mean)\n",
    "    \n",
    "    #주파수 update\n",
    "    est_error_freq = 1000 * degree_mean / 360\n",
    "    current_doppler_freq -= est_error_freq\n",
    "    dop_freq_lst.append(current_doppler_freq)\n",
    "\n",
    "    new_result = [0] * 20\n",
    "    for j in range(20):\n",
    "        current_phase = phase_diff_mean * cur_no\n",
    "        new_result[j] = cor_lst[j] * np.exp(1j * current_phase)\n",
    "        cur_no += 1\n",
    "    \n",
    "    # PLL\n",
    "    angles = np.angle(cor_lst) # In Radian\n",
    "    mean_angles = np.average(angles)\n",
    "    if np.abs(mean_angles) > (np.pi) / 2:\n",
    "        phase_offset = np.pi - mean_angles if mean_angles > 0 else - (np.pi + mean_angles)\n",
    "    else: # np.pi /2 보다 작을 때(1사분면, 4사분면)\n",
    "        phase_offset = - mean_angles\n",
    "        \n",
    "    phase_offset_lst.append(phase_offset)\n",
    "    \n",
    "    \n",
    "    # DLL \n",
    "    # 작업 예정\n",
    "    \n",
    "    # Demodulation\n",
    "    \n"
   ]
  },
  {
   "cell_type": "markdown",
   "metadata": {},
   "source": [
    "## 결과 출력"
   ]
  },
  {
   "cell_type": "code",
   "execution_count": 433,
   "metadata": {},
   "outputs": [
    {
     "name": "stdout",
     "output_type": "stream",
     "text": [
      "Data: \t\t 1 -1 1 1 1 1 -1 1 1 -1\n",
      "Demod Result:\t -1 -1 1 1 1 -1 -1 -1 1 -1\n"
     ]
    },
    {
     "data": {
      "image/png": "[encoded data removed]",
      "text/plain": [
       "<Figure size 1000x600 with 2 Axes>"
      ]
     },
     "metadata": {},
     "output_type": "display_data"
    }
   ],
   "source": [
    "print('Data: \\t\\t',*data)\n",
    "print('Demod Result:\\t',*result)\n",
    "\n",
    "# 그래프 그리기\n",
    "plt.figure(figsize=(10, 6))\n",
    "t = np.arange(0,ms/20 + 1)\n",
    "\n",
    "plt.subplot(3, 1, 1)\n",
    "m = np.average(dop_freq_lst[1:])\n",
    "plt.plot(t, dop_freq_lst)\n",
    "plt.ylim(0.9*m, 1.1*m)\n",
    "plt.title('Doppler Frequency Offset')\n",
    "plt.xlabel('Time (20ms)')\n",
    "plt.ylabel('Hz')\n",
    "plt.grid(True)\n",
    "\n",
    "\n",
    "plt.subplot(3, 1, 2)\n",
    "plt.plot(t,phase_offset_lst)\n",
    "plt.title('Phase Offset')\n",
    "plt.xlabel('Time (ms)')\n",
    "plt.ylabel('Radian')\n",
    "plt.grid(True)\n",
    "\n",
    "\n",
    "\n",
    "plt.show()"
   ]
  },
  {
   "cell_type": "code",
   "execution_count": 436,
   "metadata": {},
   "outputs": [
    {
     "data": {
      "image/png": "[encoded data removed]",
      "text/plain": [
       "<Figure size 800x800 with 1 Axes>"
      ]
     },
     "metadata": {},
     "output_type": "display_data"
    }
   ],
   "source": [
    "\n",
    "plt.figure(figsize=(8, 8))\n",
    "for i in range(5):\n",
    "    plt.scatter(np.real(cor_result[i]), np.imag(cor_result[i]), s=5, label='New_s_1', c='r')    \n",
    "\"\"\"plt.scatter(np.real(cor_result[0]), np.imag(cor_result[0]), s=5, label='New_s_1', c='r')\n",
    "plt.scatter(np.real(cor_result[1]), np.imag(cor_result[1]), s=5, label='New_s_2', c='y')\n",
    "plt.scatter(np.real(cor_result[2]), np.imag(cor_result[2]), s=5, label='New_s_3', c='g')\n",
    "plt.scatter(np.real(cor_result[3]), np.imag(cor_result[3]), s=5, label='New_s_4', c='b')\n",
    "plt.scatter(np.real(cor_result[4]), np.imag(cor_result[4]), s=5, label='New_s_5', c='purple')\n",
    "# plt.scatter(np.real(new_result[100:120]), np.imag(new_result[100:120]), s=5, label='New_s_6', c='black')\"\"\"\n",
    "\n",
    "# print(data, B)\n",
    "\n",
    "for i, txt in enumerate(range(5)):\n",
    "    plt.annotate(f'{txt}', (np.real(cor_result[i][0]), np.imag(cor_result[i][0])), fontsize = 6)\n",
    "for i, txt in enumerate(range(5)):\n",
    "    plt.annotate(f'{txt}', (np.real(cor_result[i][-1]), np.imag(cor_result[i][-1])), fontsize = 6)    \n",
    "    \n",
    "plt.title(\"Estimated Demodulation list\")\n",
    "plt.xlabel(\"Real Part\")\n",
    "plt.ylabel(\"Imaginary Part\")\n",
    "# m = max(np.real(new_result[:]))\n",
    "# plt.xlim(-1.1*m, 1.1*m)\n",
    "# plt.ylim(-1.1*m, 1.1*m)\n",
    "plt.grid(True)\n",
    "plt.show()\n",
    "\n",
    "# 첫번째는 버리는 Bit입니다. 가운데 있는게 맞는거임"
   ]
  }
 ],
 "metadata": {
  "kernelspec": {
   "display_name": "Python 3",
   "language": "python",
   "name": "python3"
  },
  "language_info": {
   "codemirror_mode": {
    "name": "ipython",
    "version": 3
   },
   "file_extension": ".py",
   "mimetype": "text/x-python",
   "name": "python",
   "nbconvert_exporter": "python",
   "pygments_lexer": "ipython3",
   "version": "3.12.2"
  }
 },
 "nbformat": 4,
 "nbformat_minor": 2
}
