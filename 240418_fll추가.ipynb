{
 "cells": [
  {
   "cell_type": "markdown",
   "metadata": {},
   "source": [
    "코드 생성"
   ]
  },
  {
   "cell_type": "code",
   "execution_count": 2,
   "metadata": {},
   "outputs": [],
   "source": [
    "import numpy as np\n",
    "import matplotlib.pyplot as plt\n",
    "from scipy.signal import correlate\n",
    "from mpl_toolkits.mplot3d import Axes3D\n",
    "from collections import deque  \n",
    "import random as rand\n",
    "\n",
    "sats = [(1, 5), (2, 6), (3, 7), (4, 8), (0, 8), (1, 9), (0, 7), (1, 8), (2, 9), (1, 2),\n",
    "            (2, 3), (4, 5), (5, 6), (6, 7), (7, 8), (8, 9), (0, 3), (1, 4), (2, 5), (3, 6),\n",
    "            (4, 7), (5, 8), (0, 2), (3, 5), (4, 6), (5, 7), (6, 8), (7, 9), (0, 5), (1, 6),\n",
    "            (2, 7), (3, 8), (4, 9), (3, 9), (0, 6), (1, 7), (3, 9)]\n",
    "g1tap = [2,9]\n",
    "g2tap = [1,2,5,7,8,9]\n",
    "\n",
    "def getCode(satsNum):\n",
    "    \n",
    "    g1 = deque(1 for i in range(10))\n",
    "    g2 = deque(1 for i in range(10))\n",
    "    \n",
    "    # result\n",
    "    g = []\n",
    "    \n",
    "    # Generating 1023 chips(One C/A sequence)\n",
    "    for i in range(1023):\n",
    "        val = (g1[9] + g2[satsNum[0]] + g2[satsNum[1]]) % 2\n",
    "        g.append(val)\n",
    "        \n",
    "        #shift g1\n",
    "        g1[9] = sum(g1[i] for i in g1tap) % 2\n",
    "        g1.rotate()\n",
    "        \n",
    "        #shift g2\n",
    "        g2[9] = sum(g2[i] for i in g2tap) % 2\n",
    "        g2.rotate()\n",
    "    # 0 => -1\n",
    "    for n,i in enumerate(g):\n",
    "            if i==0:\n",
    "                g[n]=-1\n",
    "        \n",
    "    return g\n",
    "\n",
    "# 코드 미리 만들어두기(시간복잡도 줄이려고)\n",
    "codes = []\n",
    "for i in range(37):\n",
    "    codes.append(getCode(sats[i]))"
   ]
  },
  {
   "cell_type": "code",
   "execution_count": 3,
   "metadata": {},
   "outputs": [],
   "source": [
    "OV = 1\n",
    "ms = 100 # message 한 bit 마다 20ms"
   ]
  },
  {
   "cell_type": "markdown",
   "metadata": {},
   "source": [
    "Data 생성"
   ]
  },
  {
   "cell_type": "code",
   "execution_count": 4,
   "metadata": {},
   "outputs": [],
   "source": [
    "data = []\n",
    "for i in range(ms//20):\n",
    "    data.append((-1)**i)\n",
    "RN = rand.randint(0,36)\n",
    "t_code = codes[RN]\n",
    "t_code = [chip for chip in t_code for _ in range(OV)]\n",
    "t_code_inv = [x*-1 for x in t_code]\n",
    "seq = []\n",
    "for d in data:\n",
    "    if d == 1:\n",
    "        seq.extend(t_code*20)\n",
    "    else:\n",
    "        seq.extend(t_code_inv*20)\n",
    "\n"
   ]
  },
  {
   "cell_type": "markdown",
   "metadata": {},
   "source": [
    "Signal 생성"
   ]
  },
  {
   "cell_type": "code",
   "execution_count": 5,
   "metadata": {},
   "outputs": [],
   "source": [
    "def generate_transmitted_signal(code_delay, doppler_freq, svNumber, code_freq, signal_length, OV = 1.023e6*OV):\n",
    "    delayed_seq = np.roll(seq, code_delay) # code_delay : delay된 sample 수\n",
    "    \n",
    "    t = np.arange(signal_length)\n",
    "    code_phase = 2 * np.pi * code_freq * t / OV\n",
    "    oversampled_signal = np.cos(code_phase) * np.exp(1j * (2 * np.pi * doppler_freq * t / OV))\n",
    "    \n",
    "    signal = delayed_seq * oversampled_signal[:signal_length]\n",
    "    return signal\n",
    "    "
   ]
  },
  {
   "cell_type": "markdown",
   "metadata": {},
   "source": [
    "Replica 신호 생성"
   ]
  },
  {
   "cell_type": "code",
   "execution_count": 6,
   "metadata": {},
   "outputs": [],
   "source": [
    "def generate_replica_signal(code_delay, doppler_freq, code_freq, svNumber, signal_length = 1023*OV ,OV = 1.023e6*OV ):\n",
    "    ca_code = np.array(codes[svNumber])\n",
    "    ca_code = [chip for chip in ca_code for _ in range(int(OV//1.023e6))]\n",
    "    delayed_code = np.roll(ca_code, code_delay)\n",
    "    \n",
    "    t = np.arange(signal_length)\n",
    "   \n",
    "    code_phase = 2 * np.pi * code_freq * t / OV\n",
    "    oversampled_signal = np.cos(code_phase) * np.exp(1j * (2 * np.pi * (doppler_freq) * t / OV))\n",
    "    \n",
    "    replica =  delayed_code * oversampled_signal[:signal_length]\n",
    "    replica = np.tile(replica,20)\n",
    "    return replica\n",
    "    "
   ]
  },
  {
   "cell_type": "markdown",
   "metadata": {},
   "source": [
    "Acquisition"
   ]
  },
  {
   "cell_type": "code",
   "execution_count": 7,
   "metadata": {},
   "outputs": [],
   "source": [
    "def acquisition(signal, code_delay_range, doppler_freq_range,code_freq, svNumber, signal_length, OV):\n",
    "    max_corr = 0\n",
    "    max_code_delay = 0\n",
    "    max_doppler_freq = 0\n",
    "    max_cor_lst = []\n",
    "    signal_div = [signal[i:i+(1023*20*OV)] for i in range(0,len(signal), 1023*20*OV)]\n",
    "    \n",
    "    for i, doppler_freq in enumerate(doppler_freq_range):\n",
    "        replica = generate_replica_signal(code_delay_range[0],doppler_freq,code_freq, svNumber)\n",
    "        \n",
    "        for j, code_delay in enumerate(code_delay_range):\n",
    "            correlation = []\n",
    "            for lst in signal_div:\n",
    "                cor = np.abs(correlate(lst, replica, mode='valid'))\n",
    "                correlation.append(np.max(cor))\n",
    "            avg_cor = sum(correlation)/len(signal_div)\n",
    "            \n",
    "            if avg_cor > max_corr:\n",
    "                max_corr = avg_cor\n",
    "                max_code_delay = code_delay\n",
    "                max_doppler_freq = doppler_freq\n",
    "                max_cor_lst = correlation\n",
    "                \n",
    "            replica = np.roll(replica, OV)\n",
    "    return max_corr, max_code_delay, max_doppler_freq, max_cor_lst\n",
    "            "
   ]
  },
  {
   "cell_type": "markdown",
   "metadata": {},
   "source": [
    "Acquisition 실행"
   ]
  },
  {
   "cell_type": "code",
   "execution_count": 8,
   "metadata": {},
   "outputs": [
    {
     "name": "stdout",
     "output_type": "stream",
     "text": [
      "----------------------------------------\n",
      "Target SV Number: 21\n",
      "True Code Delay: 21.0\n",
      "True doppler frequency: -532\n",
      "Maximum correlation: 921.2767174468911\n",
      "Estimated code delay: 21.0\n",
      "Estimated Doppler frequency: -500.0\n",
      "Est_cor_lst : [890.7664217499499, 928.9042913711261, 928.904291371126, 928.9042913711257, 928.904291371127]\n"
     ]
    }
   ],
   "source": [
    "# Parameters\n",
    "code_delay_range = np.arange(0, 200*OV, OV)  # Range of code delay in chips\n",
    "doppler_freq_range = np.linspace(-5000, 5000, 21)  # Adjusted range of Doppler frequency in Hz\n",
    "code_freq = 1.023e6  # Code frequency in Hz\n",
    "svNumber = RN\n",
    "# Generate received signal\n",
    "true_code_delay = rand.randint(0,200*OV)\n",
    "true_doppler_freq = rand.randint(-5000,5000)\n",
    "received_signal = generate_transmitted_signal(true_code_delay, true_doppler_freq, svNumber, code_freq, 1023*20*(ms//20))\n",
    "\n",
    "# Perform acquisition\n",
    "max_corr, estimated_code_delay, estimated_doppler_freq, est_cor_lst= acquisition(received_signal, code_delay_range, doppler_freq_range, code_freq, svNumber,1023*20*(ms//20),OV)\n",
    "\n",
    "print(\"-\"*40)\n",
    "print(\"Target SV Number:\", svNumber + 1)\n",
    "print(\"True Code Delay:\", true_code_delay/OV)\n",
    "print(\"True doppler frequency:\", true_doppler_freq)\n",
    "print(\"Maximum correlation:\", max_corr)\n",
    "print(\"Estimated code delay:\", estimated_code_delay/OV)\n",
    "print(\"Estimated Doppler frequency:\", estimated_doppler_freq)\n",
    "print('Est_cor_lst :',est_cor_lst)"
   ]
  },
  {
   "cell_type": "markdown",
   "metadata": {},
   "source": [
    "## Tracking loop test"
   ]
  },
  {
   "cell_type": "markdown",
   "metadata": {},
   "source": [
    "fine frequency estimation"
   ]
  },
  {
   "cell_type": "code",
   "execution_count": 25,
   "metadata": {},
   "outputs": [],
   "source": [
    "#input 재정의: \n",
    "#kLargest = doppler주파수estimation한걸로 넣\n",
    "#data = received_signal로 넣ㅇㅇ\n",
    "#GPS_fs = 샘플링 주파수 넣ㅇㅇ(아마?)\n",
    "\n",
    "\n",
    "def GetFineFrequency(data, kLargest, GPS_fs): # now passed in data class\n",
    "    # Performs fine-frequency estimation. In this case, data will be a slice\n",
    "    # of data (probably same length of data that was used in the circular\n",
    "    # cross-correlation)\n",
    "\n",
    "\n",
    "    # Perform DFT on each of the ms of data (5 total), at kLargest frequency.\n",
    "    # Uses variables from medium-frequency, so if they change, may need to re-create below.\n",
    "    X = []\n",
    "    PhaseAngle = []\n",
    "    numMSmf = 1 # num ms for medium-frequency estimation\n",
    "    Nmf = int(np.ceil(numMSmf*0.001*GPS_fs))  # num of samples to use for medium-frequency estimation (and DFT)\n",
    "    # Create sampled time array for DFT\n",
    "    Ts = 1/GPS_fs\n",
    "    nTs = np.linspace(0,Ts*(Nmf + 1),Nmf,endpoint=False)\n",
    "    \n",
    "    for i in range(0,5):\n",
    "        X.append(sum(data[i*1023:(i+1)*1023]*np.exp(-2*np.pi*1j*kLargest*nTs)))\n",
    "        PhaseAngle.append(np.arctan(np.imag(X[i])/np.real(X[i])))\n",
    "        print(\"Magnitude: %f\" %X[i])\n",
    "        print(\"Phase Angle: %f\" %PhaseAngle[i])\n",
    "\n",
    "    # Get difference angles\n",
    "    PhaseDiff = []\n",
    "    for i in range(1,5):\n",
    "        PhaseDiff.append(PhaseAngle[i]-PhaseAngle[i-1])\n",
    "        print(\"Phase difference %d, is: %f\"%((i-1),PhaseDiff[i-1]))\n",
    "\n",
    "\n",
    "    PhaseThreshold = (2.3*np.pi)/5\n",
    "    for (i,curPhaseDiff) in enumerate(PhaseDiff):\n",
    "        if np.abs(curPhaseDiff) > PhaseThreshold:\n",
    "            curPhaseDiff = PhaseDiff[i] - 2*np.pi\n",
    "            if np.abs(curPhaseDiff) > PhaseThreshold:\n",
    "                curPhaseDiff = PhaseDiff[i] + 2*np.pi\n",
    "                if np.abs(curPhaseDiff) > (2.2*np.pi)/5:\n",
    "                    curPhaseDiff = PhaseDiff[i] - np.pi\n",
    "                    if np.abs(curPhaseDiff) > PhaseThreshold:\n",
    "                        curPhaseDiff = PhaseDiff[i] - 3*np.pi\n",
    "                        if np.abs(curPhaseDiff) > PhaseThreshold:\n",
    "                            curPhaseDiff = PhaseDiff[i] + np.pi\n",
    "        PhaseDiff[i] = curPhaseDiff\n",
    "    fList = (np.array(PhaseDiff)/(2*np.pi*0.001))\n",
    "    print(fList)\n",
    "    print()\n",
    "    print(np.mean(fList))\n",
    "\n",
    "    FineFrequencyEst = (np.mean(fList)) #각 데이터 슬라이스에서 계산된 위상 차이에 대한 주파수 변화율\n",
    "    return FineFrequencyEst\n"
   ]
  },
  {
   "cell_type": "code",
   "execution_count": 29,
   "metadata": {},
   "outputs": [
    {
     "name": "stdout",
     "output_type": "stream",
     "text": [
      "102300\n",
      "Magnitude: 0.996981\n",
      "Phase Angle: 0.113781\n",
      "Magnitude: -0.999649\n",
      "Phase Angle: -0.087281\n",
      "Magnitude: 0.962042\n",
      "Phase Angle: -0.288343\n",
      "Magnitude: -0.885674\n",
      "Phase Angle: -0.489405\n",
      "Magnitude: 0.773623\n",
      "Phase Angle: -0.690467\n",
      "Phase difference 0, is: -0.201062\n",
      "Phase difference 1, is: -0.201062\n",
      "Phase difference 2, is: -0.201062\n",
      "Phase difference 3, is: -0.201062\n",
      "[-32. -32. -32. -32.]\n",
      "\n",
      "-31.999999999999275\n",
      "\n",
      "-531.9999999999993\n",
      "frequency 추정 완료\n"
     ]
    },
    {
     "name": "stderr",
     "output_type": "stream",
     "text": [
      "C:\\Users\\siljn\\AppData\\Local\\Temp\\ipykernel_14680\\1322027041.py:26: ComplexWarning: Casting complex values to real discards the imaginary part\n",
      "  print(\"Magnitude: %f\" %X[i])\n"
     ]
    }
   ],
   "source": [
    "kLargest = estimated_doppler_freq\n",
    "GPS_fs= code_freq\n",
    "data = received_signal\n",
    "print(len(data))\n",
    "FineFrequencyEst = GetFineFrequency(data, kLargest, GPS_fs)\n",
    "\n",
    "print()\n",
    "print(FineFrequencyEst + estimated_doppler_freq)\n",
    "print(\"frequency 추정 완료\")\n",
    "\n"
   ]
  },
  {
   "cell_type": "code",
   "execution_count": null,
   "metadata": {},
   "outputs": [],
   "source": [
    "\n",
    "\n",
    "\n",
    "def GetFineFrequency(data, SatInfo, code5ms): # now passed in data class\n",
    "    # Performs fine-frequency estimation. In this case, data will be a slice\n",
    "    # of data (probably same length of data that was used in the circular\n",
    "    # cross-correlation)\n",
    "\n",
    "    \n",
    "    \"\"\"\n",
    "    여기까지 doppler frequency 찾는 과정 -> 이미 수행한 작업\n",
    "    Ts = 1/GPS_fs\n",
    "\n",
    "    # Medium-frequency estimation data length (1ms in book, but may need to used\n",
    "    # the data length from acquisition)\n",
    "    numMSmf = 1 # num ms for medium-frequency estimation\n",
    "    Nmf = int(np.ceil(numMSmf*0.001*GPS_fs))  # num of samples to use for medium-frequency estimation (and DFT)\n",
    "\n",
    "    dataMF = data.CData[0:(4092*numMSmf)] #중간 주파수 추정에 사용될 데이터 선택\n",
    "\n",
    "    # Create list of the three frequencies to test for medium-frequency estimation.\n",
    "    k = []\n",
    "    k.append(SatInfo.DopplerHz - 400*10**3) #여기서 추정한 doopplerHZ 받아와서 사용필요\n",
    "    k.append(SatInfo.DopplerHz)\n",
    "    k.append(SatInfo.DopplerHz + 400*10**3)\n",
    "\n",
    "    # Create sampled time array for DFT - 우리거 샘플링된 시간 배열 다시 정의 필요 \n",
    "    nTs = np.linspace(0,Ts*(Nmf + 1),Nmf,endpoint=False)\n",
    "\n",
    "    # Perform DFT at each of the three frequencies.\n",
    "    X = []\n",
    "    X.append(np.abs(sum(dataMF*np.exp(-2*np.pi*1j*k[0]*nTs)))**2)\n",
    "    X.append(np.abs(sum(dataMF*np.exp(-2*np.pi*1j*k[1]*nTs)))**2)\n",
    "    X.append(np.abs(sum(dataMF*np.exp(-2*np.pi*1j*k[2]*nTs)))**2)\n",
    "\n",
    "    # Store the frequency value that has the largest power\n",
    "    kLargest = k[np.argmax(X)]\n",
    "    print(\"Largest of three frequencies: %f\"%kLargest) # Will remove. Temporarily for debugging purposes.\n",
    "    \"\"\"\n",
    "\n",
    "    \"\"\"\n",
    "    #여기는 CA code랑 CW signal이랑 곱 \n",
    "    # Get 5 ms of consecutive data, starting at beginning of CA Code\n",
    "    CACodeBeginning = int(SatInfo.CodePhaseSamples)\n",
    "    data5ms = data.CData[CACodeBeginning:int(5*4092) + CACodeBeginning]\n",
    "\n",
    "    # Get 5 ms of CA Code, with no rotation performed.\n",
    "    # passed in from function (code5ms)\n",
    "\n",
    "    # Multiply data with ca code to get cw(continuous wave) signal\n",
    "    dataCW = data5ms*code5ms\n",
    "    \"\"\"\n",
    "\n",
    "\n",
    "    \n",
    "\n",
    "    # Perform DFT on each of the ms of data (5 total), at kLargest frequency.\n",
    "    # Uses variables from medium-frequency, so if they change, may need to re-create below.\n",
    "    X = []\n",
    "    PhaseAngle = []\n",
    "    for i in range(0,5):\n",
    "        X.append(sum(dataCW[i*4092:(i+1)*4092]*np.exp(-2*np.pi*1j*kLargest*nTs)))\n",
    "        PhaseAngle.append(np.arctan(np.imag(X[i])/np.real(X[i])))\n",
    "        print(\"Magnitude: %f\" %X[i])\n",
    "        print(\"Phase Angle: %f\" %PhaseAngle[i])\n",
    "\n",
    "    # Get difference angles\n",
    "    PhaseDiff = []\n",
    "    for i in range(1,5):\n",
    "        PhaseDiff.append(PhaseAngle[i]-PhaseAngle[i-1])\n",
    "        print(\"Phase difference %d, is: %f\"%((i-1),PhaseDiff[i-1]))\n",
    "\n",
    "    # Adjust phases so magnitude not greater than 2.3*pi/5\n",
    "    # WIP\n",
    "    PhaseThreshold = (2.3*np.pi)/5\n",
    "    for (i,curPhaseDiff) in enumerate(PhaseDiff):\n",
    "        if np.abs(curPhaseDiff) > PhaseThreshold:\n",
    "            curPhaseDiff = PhaseDiff[i] - 2*np.pi\n",
    "            if np.abs(curPhaseDiff) > PhaseThreshold:\n",
    "                curPhaseDiff = PhaseDiff[i] + 2*np.pi\n",
    "                if np.abs(curPhaseDiff) > (2.2*np.pi)/5:\n",
    "                    curPhaseDiff = PhaseDiff[i] - np.pi\n",
    "                    if np.abs(curPhaseDiff) > PhaseThreshold:\n",
    "                        curPhaseDiff = PhaseDiff[i] - 3*np.pi\n",
    "                        if np.abs(curPhaseDiff) > PhaseThreshold:\n",
    "                            curPhaseDiff = PhaseDiff[i] + np.pi\n",
    "        PhaseDiff[i] = curPhaseDiff\n",
    "    fList = (np.array(PhaseDiff)/(2*np.pi*0.001))\n",
    "    print(fList)\n",
    "    print(np.mean(fList))\n",
    "\n",
    "    FineFrequencyEst = 0 # Just a placeholder.\n",
    "    return FineFrequencyEst\n"
   ]
  }
 ],
 "metadata": {
  "kernelspec": {
   "display_name": "Python 3",
   "language": "python",
   "name": "python3"
  },
  "language_info": {
   "codemirror_mode": {
    "name": "ipython",
    "version": 3
   },
   "file_extension": ".py",
   "mimetype": "text/x-python",
   "name": "python",
   "nbconvert_exporter": "python",
   "pygments_lexer": "ipython3",
   "version": "3.11.8"
  }
 },
 "nbformat": 4,
 "nbformat_minor": 2
}
