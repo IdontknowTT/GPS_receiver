{
 "cells": [
  {
   "cell_type": "markdown",
   "metadata": {},
   "source": [
    "코드 생성"
   ]
  },
  {
   "cell_type": "code",
   "execution_count": 197,
   "metadata": {},
   "outputs": [],
   "source": [
    "import numpy as np\n",
    "import matplotlib.pyplot as plt\n",
    "from scipy.signal import correlate\n",
    "from mpl_toolkits.mplot3d import Axes3D\n",
    "from collections import deque  \n",
    "import random as rand\n",
    "\n",
    "sats = [(1, 5), (2, 6), (3, 7), (4, 8), (0, 8), (1, 9), (0, 7), (1, 8), (2, 9), (1, 2),\n",
    "            (2, 3), (4, 5), (5, 6), (6, 7), (7, 8), (8, 9), (0, 3), (1, 4), (2, 5), (3, 6),\n",
    "            (4, 7), (5, 8), (0, 2), (3, 5), (4, 6), (5, 7), (6, 8), (7, 9), (0, 5), (1, 6),\n",
    "            (2, 7), (3, 8), (4, 9), (3, 9), (0, 6), (1, 7), (3, 9)]\n",
    "g1tap = [2,9]\n",
    "g2tap = [1,2,5,7,8,9]\n",
    "\n",
    "def getCode(satsNum):\n",
    "    \n",
    "    g1 = deque(1 for i in range(10))\n",
    "    g2 = deque(1 for i in range(10))\n",
    "    \n",
    "    # result\n",
    "    g = []\n",
    "    \n",
    "    # Generating 1023 chips(One C/A sequence)\n",
    "    for i in range(1023):\n",
    "        val = (g1[9] + g2[satsNum[0]] + g2[satsNum[1]]) % 2\n",
    "        g.append(val)\n",
    "        \n",
    "        #shift g1\n",
    "        g1[9] = sum(g1[i] for i in g1tap) % 2\n",
    "        g1.rotate()\n",
    "        \n",
    "        #shift g2\n",
    "        g2[9] = sum(g2[i] for i in g2tap) % 2\n",
    "        g2.rotate()\n",
    "    # 0 => -1\n",
    "    for n,i in enumerate(g):\n",
    "            if i==0:\n",
    "                g[n]=-1\n",
    "        \n",
    "    return g\n",
    "\n",
    "# 코드 미리 만들어두기(시간복잡도 줄이려고)\n",
    "codes = []\n",
    "for i in range(37):\n",
    "    codes.append(getCode(sats[i]))"
   ]
  },
  {
   "cell_type": "code",
   "execution_count": 198,
   "metadata": {},
   "outputs": [],
   "source": [
    "OV = 1\n",
    "ms = 100 # message 한 bit 마다 20ms"
   ]
  },
  {
   "cell_type": "markdown",
   "metadata": {},
   "source": [
    "Data 생성"
   ]
  },
  {
   "cell_type": "code",
   "execution_count": 199,
   "metadata": {},
   "outputs": [],
   "source": [
    "data = []\n",
    "for i in range(ms//20):\n",
    "    data.append((-1)**i)\n",
    "RN = rand.randint(0,36)\n",
    "t_code = codes[RN]\n",
    "t_code = [chip for chip in t_code for _ in range(OV)]\n",
    "t_code_inv = [x*-1 for x in t_code]\n",
    "seq = []\n",
    "for d in data:\n",
    "    if d == 1:\n",
    "        seq.extend(t_code*20)\n",
    "    else:\n",
    "        seq.extend(t_code_inv*20)\n",
    "\n"
   ]
  },
  {
   "cell_type": "markdown",
   "metadata": {},
   "source": [
    "Signal 생성"
   ]
  },
  {
   "cell_type": "code",
   "execution_count": 200,
   "metadata": {},
   "outputs": [],
   "source": [
    "def generate_transmitted_signal(code_delay, doppler_freq, svNumber, code_freq, signal_length, OV = 1.023e6*OV):\n",
    "    delayed_seq = np.roll(seq, code_delay) # code_delay : delay된 sample 수\n",
    "    \n",
    "    t = np.arange(signal_length)\n",
    "    code_phase = 2 * np.pi * code_freq * t / OV\n",
    "    oversampled_signal = np.cos(code_phase) * np.exp(1j * (2 * np.pi * doppler_freq * t / OV))\n",
    "    \n",
    "    signal = delayed_seq * oversampled_signal[:signal_length]\n",
    "    return signal\n",
    "    "
   ]
  },
  {
   "cell_type": "markdown",
   "metadata": {},
   "source": [
    "Replica 신호 생성"
   ]
  },
  {
   "cell_type": "code",
   "execution_count": 201,
   "metadata": {},
   "outputs": [],
   "source": [
    "def generate_replica_signal(code_delay, doppler_freq, code_freq, svNumber, signal_length = 1023*OV ,OV = 1.023e6*OV ):\n",
    "    ca_code = np.array(codes[svNumber])\n",
    "    ca_code = [chip for chip in ca_code for _ in range(int(OV//1.023e6))]\n",
    "    delayed_code = np.roll(ca_code, code_delay)\n",
    "    \n",
    "    t = np.arange(signal_length)\n",
    "   \n",
    "    code_phase = 2 * np.pi * code_freq * t / OV\n",
    "    oversampled_signal = np.cos(code_phase) * np.exp(1j * (2 * np.pi * (doppler_freq) * t / OV))\n",
    "    \n",
    "    replica =  delayed_code * oversampled_signal[:signal_length]\n",
    "    replica = np.tile(replica,20)\n",
    "    return replica\n",
    "    "
   ]
  },
  {
   "cell_type": "markdown",
   "metadata": {},
   "source": [
    "Acquisition"
   ]
  },
  {
   "cell_type": "code",
   "execution_count": 202,
   "metadata": {},
   "outputs": [],
   "source": [
    "def acquisition(signal, code_delay_range, doppler_freq_range,code_freq, svNumber, signal_length, OV):\n",
    "    max_corr = 0\n",
    "    max_code_delay = 0\n",
    "    max_doppler_freq = 0\n",
    "    max_cor_lst = []\n",
    "    signal_div = [signal[i:i+(1023*20*OV)] for i in range(0,len(signal), 1023*20*OV)]\n",
    "    \n",
    "    for i, doppler_freq in enumerate(doppler_freq_range):\n",
    "        replica = generate_replica_signal(code_delay_range[0],doppler_freq,code_freq, svNumber)\n",
    "        \n",
    "        for j, code_delay in enumerate(code_delay_range):\n",
    "            correlation = []\n",
    "            for lst in signal_div:\n",
    "                cor = np.abs(correlate(lst, replica, mode='valid'))\n",
    "                correlation.append(np.max(cor))\n",
    "            avg_cor = sum(correlation)/len(signal_div)\n",
    "            \n",
    "            if avg_cor > max_corr:\n",
    "                max_corr = avg_cor\n",
    "                max_code_delay = code_delay\n",
    "                max_doppler_freq = doppler_freq\n",
    "                max_cor_lst = correlation\n",
    "                \n",
    "            replica = np.roll(replica, OV)\n",
    "    return max_corr, max_code_delay, max_doppler_freq, max_cor_lst\n",
    "            "
   ]
  },
  {
   "cell_type": "markdown",
   "metadata": {},
   "source": [
    "Acquisition 실행"
   ]
  },
  {
   "cell_type": "code",
   "execution_count": 203,
   "metadata": {},
   "outputs": [
    {
     "name": "stdout",
     "output_type": "stream",
     "text": [
      "----------------------------------------\n",
      "Target SV Number: 37\n",
      "True Code Delay: 77.0\n",
      "True doppler frequency: -593\n",
      "Maximum correlation: 449.86593998892494\n",
      "Estimated code delay: 77.0\n",
      "Estimated Doppler frequency: -500.0\n",
      "Est_cor_lst : [382.8581948593738, 466.61787627131247, 466.6178762713126, 466.617876271313, 466.6178762713132]\n"
     ]
    }
   ],
   "source": [
    "# Parameters\n",
    "code_delay_range = np.arange(0, 200*OV, OV)  # Range of code delay in chips\n",
    "doppler_freq_range = np.linspace(-5000, 5000, 21)  # Adjusted range of Doppler frequency in Hz\n",
    "code_freq = 1.023e6  # Code frequency in Hz\n",
    "svNumber = RN\n",
    "# Generate received signal\n",
    "true_code_delay = rand.randint(0,200*OV)\n",
    "true_doppler_freq = rand.randint(-5000,5000)\n",
    "received_signal = generate_transmitted_signal(true_code_delay, true_doppler_freq, svNumber, code_freq, 1023*20*(ms//20))\n",
    "\n",
    "# Perform acquisition\n",
    "max_corr, estimated_code_delay, estimated_doppler_freq, est_cor_lst= acquisition(received_signal, code_delay_range, doppler_freq_range, code_freq, svNumber,1023*20*(ms//20),OV)\n",
    "\n",
    "print(\"-\"*40)\n",
    "print(\"Target SV Number:\", svNumber + 1)\n",
    "print(\"True Code Delay:\", true_code_delay/OV)\n",
    "print(\"True doppler frequency:\", true_doppler_freq)\n",
    "print(\"Maximum correlation:\", max_corr)\n",
    "print(\"Estimated code delay:\", estimated_code_delay/OV)\n",
    "print(\"Estimated Doppler frequency:\", estimated_doppler_freq)\n",
    "print('Est_cor_lst :',est_cor_lst)"
   ]
  }
 ],
 "metadata": {
  "kernelspec": {
   "display_name": "Python 3",
   "language": "python",
   "name": "python3"
  },
  "language_info": {
   "codemirror_mode": {
    "name": "ipython",
    "version": 3
   },
   "file_extension": ".py",
   "mimetype": "text/x-python",
   "name": "python",
   "nbconvert_exporter": "python",
   "pygments_lexer": "ipython3",
   "version": "3.12.2"
  }
 },
 "nbformat": 4,
 "nbformat_minor": 2
}
