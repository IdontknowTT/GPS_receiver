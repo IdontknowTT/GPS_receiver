{
 "cells": [
  {
   "cell_type": "markdown",
   "metadata": {},
   "source": [
    "## Code 생성"
   ]
  },
  {
   "cell_type": "code",
   "execution_count": 153,
   "metadata": {},
   "outputs": [],
   "source": [
    "import numpy as np\n",
    "import matplotlib.pyplot as plt\n",
    "from scipy.signal import correlate\n",
    "from mpl_toolkits.mplot3d import Axes3D\n",
    "from collections import deque  \n",
    "import random as rand\n",
    "\n",
    "sats = [(1, 5), (2, 6), (3, 7), (4, 8), (0, 8), (1, 9), (0, 7), (1, 8), (2, 9), (1, 2),\n",
    "            (2, 3), (4, 5), (5, 6), (6, 7), (7, 8), (8, 9), (0, 3), (1, 4), (2, 5), (3, 6),\n",
    "            (4, 7), (5, 8), (0, 2), (3, 5), (4, 6), (5, 7), (6, 8), (7, 9), (0, 5), (1, 6),\n",
    "            (2, 7), (3, 8), (4, 9), (3, 9), (0, 6), (1, 7), (3, 9)]\n",
    "g1tap = [2,9]\n",
    "g2tap = [1,2,5,7,8,9]\n",
    "\n",
    "def getCode(satsNum):\n",
    "    \n",
    "    g1 = deque(1 for i in range(10))\n",
    "    g2 = deque(1 for i in range(10))\n",
    "    \n",
    "    # result\n",
    "    g = []\n",
    "    \n",
    "    # Generating 1023 chips(One C/A sequence)\n",
    "    for i in range(1023):\n",
    "        val = (g1[9] + g2[satsNum[0]] + g2[satsNum[1]]) % 2\n",
    "        g.append(val)\n",
    "        \n",
    "        #shift g1\n",
    "        g1[9] = sum(g1[i] for i in g1tap) % 2\n",
    "        g1.rotate()\n",
    "        \n",
    "        #shift g2\n",
    "        g2[9] = sum(g2[i] for i in g2tap) % 2\n",
    "        g2.rotate()\n",
    "    # 0 => -1\n",
    "    for n,i in enumerate(g):\n",
    "            if i==0:\n",
    "                g[n]=-1\n",
    "        \n",
    "    return g\n",
    "\n",
    "# 코드 미리 만들어두기(시간복잡도 줄이려고)\n",
    "codes = []\n",
    "for i in range(37):\n",
    "    codes.append(getCode(sats[i]))"
   ]
  },
  {
   "cell_type": "markdown",
   "metadata": {},
   "source": [
    "## 송신단에서의 신호 생성 + Doppler_frequency 적용"
   ]
  },
  {
   "cell_type": "code",
   "execution_count": 154,
   "metadata": {},
   "outputs": [],
   "source": [
    "def generate_transmitted_signal(code_delay, doppler_freq, svNumber, code_freq=1.023e6, oversampling_factor=(1.023e6)*8, signal_length=1023*8):\n",
    "    # Generate C/A code\n",
    "    ca_code = np.array(codes[svNumber])\n",
    "    \n",
    "    # Apply code delay\n",
    "    delayed_code = [chip for chip in ca_code for _ in range(8)]\n",
    "    delayed_code = np.roll(delayed_code, code_delay)\n",
    "    # Generate oversampled signal\n",
    "    t = np.arange(signal_length)\n",
    "    # t = np.repeat(t, 4)\n",
    "   \n",
    "    code_phase = 2 * np.pi * code_freq * t / oversampling_factor\n",
    "    oversampled_signal = np.cos(code_phase) * np.exp(1j * (2 * np.pi * doppler_freq * t / oversampling_factor))\n",
    "    \n",
    "    # Multiply with delayed C/A code\n",
    "    signal = delayed_code * oversampled_signal[:signal_length]\n",
    "    \n",
    "    return signal"
   ]
  },
  {
   "cell_type": "markdown",
   "metadata": {},
   "source": [
    "## 수신단에서의 Replica 신호 생성(For Acquisition)"
   ]
  },
  {
   "cell_type": "code",
   "execution_count": 155,
   "metadata": {},
   "outputs": [],
   "source": [
    "def generate_replica_signal(code_delay, doppler_freq, svNumber, code_freq=1.023e6, oversampling_factor=(1.023e6)*8, signal_length=1023*8):\n",
    "    # Generate C/A code\n",
    "    ca_code = np.array(codes[svNumber])\n",
    "    \n",
    "    # Apply code delay\n",
    "    delayed_code = [chip for chip in ca_code for _ in range(8)]\n",
    "    delayed_code = np.roll(delayed_code, code_delay)\n",
    "    # Generate oversampled signal\n",
    "    t = np.arange(signal_length)\n",
    "    # t = np.repeat(t, 4)\n",
    "   \n",
    "    code_phase = 2 * np.pi * code_freq * t / oversampling_factor\n",
    "    oversampled_signal = np.cos(code_phase) * np.exp(1j * (2 * np.pi * (doppler_freq) * t / oversampling_factor))\n",
    "    \n",
    "    # Multiply with delayed C/A code\n",
    "    signal = delayed_code * oversampled_signal[:signal_length]\n",
    "    \n",
    "    return signal"
   ]
  },
  {
   "cell_type": "markdown",
   "metadata": {},
   "source": [
    "## Acqusition"
   ]
  },
  {
   "cell_type": "code",
   "execution_count": 156,
   "metadata": {},
   "outputs": [],
   "source": [
    "import numpy as np\n",
    "from scipy.signal import correlate\n",
    "\n",
    "def acquisition(signal, code_delay_range, doppler_freq_range, svNumber, doppler_freq_step=500, oversampling_factor=(1.023e6)*8, signal_length=1023*8):\n",
    "    max_corr = 0\n",
    "    max_code_delay = 0\n",
    "    max_doppler_freq = 0\n",
    "    \n",
    "    corr_matrix = np.zeros((len(code_delay_range), len(doppler_freq_range)))\n",
    " \n",
    "    for i, doppler_freq in enumerate(doppler_freq_range):\n",
    "        # Generate replica signal with the current code delay and Doppler frequency\n",
    "        reference_signal = generate_replica_signal(code_delay_range[0], doppler_freq, svNumber, oversampling_factor=oversampling_factor, signal_length=signal_length)\n",
    "        for j, code_delay in enumerate(code_delay_range):\n",
    "            \n",
    "            # Calculate correlation between the received signal and the replica signal\n",
    "            correlation = np.abs(correlate(signal, reference_signal, mode='valid'))\n",
    "            \n",
    "            # Find maximum correlation\n",
    "            peak_corr = np.max(correlation)\n",
    "            corr_matrix[j, i] = peak_corr\n",
    "            \n",
    "            # Update maximum correlation and corresponding code delay and Doppler frequency\n",
    "            if peak_corr > max_corr:\n",
    "                max_corr = peak_corr\n",
    "                max_code_delay = code_delay\n",
    "                max_doppler_freq = doppler_freq\n",
    "    \n",
    "            # Shift the reference signal by 0.5 chips (2 samples) for the next iteration\n",
    "            reference_signal = np.roll(reference_signal, 4)\n",
    "    \n",
    "    return max_corr, max_code_delay, max_doppler_freq, corr_matrix\n",
    "    \n"
   ]
  },
  {
   "cell_type": "markdown",
   "metadata": {},
   "source": [
    "## 실행"
   ]
  },
  {
   "cell_type": "code",
   "execution_count": 157,
   "metadata": {},
   "outputs": [
    {
     "name": "stdout",
     "output_type": "stream",
     "text": [
      "----------------------------------------\n",
      "Target SV Number: 36\n",
      "True Code Delay: -191.125\n",
      "True doppler frequency: -4511\n",
      "Maximum correlation: 3547.3200684250696\n",
      "Estimated code delay: -191.0\n",
      "Estimated Doppler frequency: -4500.0\n"
     ]
    }
   ],
   "source": [
    "# Parameters\n",
    "code_delay_range = list(range(-1600, 1600,4))  # Range of code delay in chips\n",
    "doppler_freq_range = np.linspace(-5000, 5000, 21)  # Adjusted range of Doppler frequency in Hz\n",
    "code_freq = 1.023e6  # Code frequency in Hz\n",
    "svNumber = rand.randint(0,36)\n",
    "# Generate received signal\n",
    "true_code_delay = rand.randint(-1600,1600)\n",
    "true_doppler_freq = rand.randint(-5000,5000)\n",
    "received_signal = generate_transmitted_signal(true_code_delay, true_doppler_freq, svNumber, code_freq=code_freq)\n",
    "\n",
    "# Perform acquisition\n",
    "max_corr, estimated_code_delay, estimated_doppler_freq, corr_matrix = acquisition(received_signal, code_delay_range, doppler_freq_range, svNumber)\n",
    "\n",
    "print(\"-\"*40)\n",
    "print(\"Target SV Number:\", svNumber + 1)\n",
    "print(\"True Code Delay:\", true_code_delay / 8)\n",
    "print(\"True doppler frequency:\", true_doppler_freq)\n",
    "print(\"Maximum correlation:\", max_corr)\n",
    "print(\"Estimated code delay:\", estimated_code_delay/8)\n",
    "print(\"Estimated Doppler frequency:\", estimated_doppler_freq)"
   ]
  },
  {
   "cell_type": "markdown",
   "metadata": {},
   "source": [
    "## Plot"
   ]
  },
  {
   "cell_type": "code",
   "execution_count": 158,
   "metadata": {},
   "outputs": [
    {
     "data": {
      "text/plain": [
       "\"# Plotting\\nfor i in range(len(code_delay_range)):\\n    code_delay_range[i] = code_delay_range[i] / 4\\nCode_Delay, Doppler_Freq = np.meshgrid(code_delay_range, doppler_freq_range)\\nfig = plt.figure(figsize=(10, 7))\\nax = fig.add_subplot(111, projection='3d')\\nax.plot_surface(Code_Delay, Doppler_Freq, corr_matrix.T, cmap='viridis')\\nax.set_xlabel('Code Delay')\\nax.set_ylabel('Doppler Frequency (Hz)')\\nax.set_zlabel('Correlation')\\nax.set_title('Correlation vs Code Delay and Doppler Frequency')\\nplt.show()\\n\""
      ]
     },
     "execution_count": 158,
     "metadata": {},
     "output_type": "execute_result"
    }
   ],
   "source": [
    "\"\"\"# Plotting\n",
    "for i in range(len(code_delay_range)):\n",
    "    code_delay_range[i] = code_delay_range[i] / 4\n",
    "Code_Delay, Doppler_Freq = np.meshgrid(code_delay_range, doppler_freq_range)\n",
    "fig = plt.figure(figsize=(10, 7))\n",
    "ax = fig.add_subplot(111, projection='3d')\n",
    "ax.plot_surface(Code_Delay, Doppler_Freq, corr_matrix.T, cmap='viridis')\n",
    "ax.set_xlabel('Code Delay')\n",
    "ax.set_ylabel('Doppler Frequency (Hz)')\n",
    "ax.set_zlabel('Correlation')\n",
    "ax.set_title('Correlation vs Code Delay and Doppler Frequency')\n",
    "plt.show()\n",
    "\"\"\""
   ]
  },
  {
   "cell_type": "markdown",
   "metadata": {},
   "source": [
    "## DLL test"
   ]
  },
  {
   "cell_type": "code",
   "execution_count": 159,
   "metadata": {},
   "outputs": [
    {
     "name": "stdout",
     "output_type": "stream",
     "text": [
      "2171.5717926521743\n",
      "4091.185589112189\n",
      "2171.57170712852\n",
      "-191.125\n"
     ]
    }
   ],
   "source": [
    "current_code_delay = estimated_code_delay\n",
    "error_Amp = 100000\n",
    "while(1):\n",
    "    \n",
    "    # L,P,E Replica Generation\n",
    "    Early_code = generate_transmitted_signal(current_code_delay - 4, estimated_doppler_freq, svNumber)\n",
    "    Prompt_code = generate_transmitted_signal(current_code_delay, estimated_doppler_freq, svNumber)\n",
    "    Late_code = generate_transmitted_signal(current_code_delay + 4, estimated_doppler_freq, svNumber)\n",
    "    # Calculate correlation between the received signal and the replica signal\n",
    "    cor_E = np.abs(correlate(received_signal, Early_code, mode='valid'))\n",
    "    E = np.max(cor_E)\n",
    "    cor_P = np.abs(correlate(received_signal, Prompt_code, mode='valid'))\n",
    "    P = np.max(cor_P)\n",
    "    cor_L = np.abs(correlate(received_signal, Late_code, mode='valid'))        \n",
    "    L = np.max(cor_L)\n",
    "    error_Amp = (E - L)\n",
    "    if np.abs(error_Amp) < 1:\n",
    "        break \n",
    "    \n",
    "    if E - L < 0:\n",
    "        current_code_delay += 1\n",
    "    if E - L > 0:\n",
    "        current_code_delay -= 1\n",
    "       \n",
    "\n",
    "print(L)\n",
    "print(P)\n",
    "print(E)\n",
    "print(current_code_delay/8)\n",
    "        \n",
    "    \n",
    "    \n"
   ]
  }
 ],
 "metadata": {
  "kernelspec": {
   "display_name": "Python 3",
   "language": "python",
   "name": "python3"
  },
  "language_info": {
   "codemirror_mode": {
    "name": "ipython",
    "version": 3
   },
   "file_extension": ".py",
   "mimetype": "text/x-python",
   "name": "python",
   "nbconvert_exporter": "python",
   "pygments_lexer": "ipython3",
   "version": "3.12.2"
  }
 },
 "nbformat": 4,
 "nbformat_minor": 2
}
