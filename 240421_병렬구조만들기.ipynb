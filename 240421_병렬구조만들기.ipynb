{
 "cells": [
  {
   "cell_type": "markdown",
   "metadata": {},
   "source": [
    "코드 생성"
   ]
  },
  {
   "cell_type": "code",
   "execution_count": 109,
   "metadata": {},
   "outputs": [],
   "source": [
    "import numpy as np\n",
    "import matplotlib.pyplot as plt\n",
    "from scipy.signal import correlate\n",
    "from mpl_toolkits.mplot3d import Axes3D\n",
    "from collections import deque  \n",
    "import random as rand\n",
    "\n",
    "sats = [(1, 5), (2, 6), (3, 7), (4, 8), (0, 8), (1, 9), (0, 7), (1, 8), (2, 9), (1, 2),\n",
    "            (2, 3), (4, 5), (5, 6), (6, 7), (7, 8), (8, 9), (0, 3), (1, 4), (2, 5), (3, 6),\n",
    "            (4, 7), (5, 8), (0, 2), (3, 5), (4, 6), (5, 7), (6, 8), (7, 9), (0, 5), (1, 6),\n",
    "            (2, 7), (3, 8), (4, 9), (3, 9), (0, 6), (1, 7), (3, 9)]\n",
    "g1tap = [2,9]\n",
    "g2tap = [1,2,5,7,8,9]\n",
    "# -5000, -4500, -4000, -3500, -3000, -2500, -2000, -1500, -1000, -500, 0, 500, 1000, 1500, 2000, 2500, 3000, 3500, 4000, 4500, 5000\n",
    "def getCode(satsNum):\n",
    "    \n",
    "    g1 = deque(1 for i in range(10))\n",
    "    g2 = deque(1 for i in range(10))\n",
    "    \n",
    "    # result\n",
    "    g = []\n",
    "    \n",
    "    # Generating 1023 chips(One C/A sequence)\n",
    "    for i in range(1023):\n",
    "        val = (g1[9] + g2[satsNum[0]] + g2[satsNum[1]]) % 2\n",
    "        g.append(val)\n",
    "        \n",
    "        #shift g1\n",
    "        g1[9] = sum(g1[i] for i in g1tap) % 2\n",
    "        g1.rotate()\n",
    "        \n",
    "        #shift g2\n",
    "        g2[9] = sum(g2[i] for i in g2tap) % 2\n",
    "        g2.rotate()\n",
    "    # 0 => -1\n",
    "    for n,i in enumerate(g):\n",
    "            if i==0:\n",
    "                g[n]=-1\n",
    "        \n",
    "    return g\n",
    "\n",
    "# 코드 미리 만들어두기(시간복잡도 줄이려고)\n",
    "codes = []\n",
    "for i in range(37):\n",
    "    codes.append(getCode(sats[i]))"
   ]
  },
  {
   "cell_type": "code",
   "execution_count": 110,
   "metadata": {},
   "outputs": [],
   "source": [
    "OV = 1\n",
    "ms = 200 # message 한 bit 마다 20ms\n",
    "INT = 10 # 적분시간 (ms)\n",
    "\n",
    "\n",
    "# C/A code Frequency : 1.023MHz\n",
    "# IF Frequency : 9.548MHz\n",
    "# Sampling rate : 38.192MHz\n",
    "# OV should be 4.\n",
    "# 알아낸 곳: Kai Borre의 A Software-Defined GPS and Galileo Receiver에서의 p.55(pdf 상으로는 70페이지)\n",
    "# 이것들 적용해야 하는데, 아직 할 줄 모른다..."
   ]
  },
  {
   "cell_type": "markdown",
   "metadata": {},
   "source": [
    "Data 생성"
   ]
  },
  {
   "cell_type": "code",
   "execution_count": 111,
   "metadata": {},
   "outputs": [],
   "source": [
    "data = []\n",
    "for i in range(ms//20):\n",
    "    data.append((-1)**i)\n",
    "RN = rand.randint(0,36)\n",
    "t_code = codes[RN]\n",
    "t_code = [chip for chip in t_code for _ in range(OV)]\n",
    "t_code_inv = [x*-1 for x in t_code]\n",
    "seq = []\n",
    "for d in data:\n",
    "    if d == 1:\n",
    "        seq.extend(t_code*20)\n",
    "    else:\n",
    "        seq.extend(t_code_inv*20)\n",
    "\n"
   ]
  },
  {
   "cell_type": "markdown",
   "metadata": {},
   "source": [
    "Signal 생성"
   ]
  },
  {
   "cell_type": "code",
   "execution_count": 112,
   "metadata": {},
   "outputs": [],
   "source": [
    "def generate_transmitted_signal(code_delay, doppler_freq, svNumber, code_freq, signal_length, OV = 1.023e6*OV):\n",
    "    delayed_seq = np.roll(seq, code_delay) # code_delay : delay된 sample 수\n",
    "    \n",
    "    t = np.arange(signal_length)\n",
    "    code_phase = 2 * np.pi * code_freq * t / OV\n",
    "    oversampled_signal = np.cos(code_phase) * np.exp(1j * (2 * np.pi * doppler_freq * t / OV))\n",
    "    # oversampled_signal = np.exp(1j*(2*np.pi * (code_freq + doppler_freq) * t / OV))\n",
    "    signal = delayed_seq * oversampled_signal[:signal_length]\n",
    "    return signal\n",
    "    "
   ]
  },
  {
   "cell_type": "markdown",
   "metadata": {},
   "source": [
    "Replica 신호 생성"
   ]
  },
  {
   "cell_type": "code",
   "execution_count": 113,
   "metadata": {},
   "outputs": [],
   "source": [
    "def generate_replica_signal(code_delay, doppler_freq, code_freq, svNumber, signal_length = 1023*OV ,OV = 1.023e6*OV ):\n",
    "    ca_code = np.array(codes[svNumber])\n",
    "    ca_code = [chip for chip in ca_code for _ in range(int(OV//1.023e6))]\n",
    "    delayed_code = np.roll(ca_code, code_delay)\n",
    "    \n",
    "    t = np.arange(signal_length)\n",
    "    code_phase = 2 * np.pi * code_freq * t / OV\n",
    "    oversampled_signal = np.cos(code_phase) * np.exp(1j * (2 * np.pi * (doppler_freq) * t / OV))\n",
    "    # oversampled_signal = np.exp(1j*(2*np.pi * (code_freq + doppler_freq) * t / OV))\n",
    "    replica =  delayed_code * oversampled_signal[:signal_length]\n",
    "    replica = np.tile(replica, INT)\n",
    "    return replica\n",
    "    "
   ]
  },
  {
   "cell_type": "markdown",
   "metadata": {},
   "source": [
    "Acquisition"
   ]
  },
  {
   "cell_type": "code",
   "execution_count": 114,
   "metadata": {},
   "outputs": [],
   "source": [
    "def acquisition(signal, code_delay_range, doppler_freq_range,code_freq, svNumber, signal_length, OV):\n",
    "    max_corr = 0\n",
    "    max_code_delay = 0\n",
    "    max_doppler_freq = 0\n",
    "    max_cor_lst = []\n",
    "    signal_div = [signal[i:i+(1023*INT*OV)] for i in range(0,len(signal), 1023*INT*OV)]\n",
    "    \n",
    "    for i, doppler_freq in enumerate(doppler_freq_range):\n",
    "        replica = generate_replica_signal(code_delay_range[0],doppler_freq,code_freq, svNumber)\n",
    "        \n",
    "        for j, code_delay in enumerate(code_delay_range):\n",
    "            correlation = []\n",
    "            for lst in signal_div:\n",
    "                cor = np.abs(correlate(lst, replica, mode='valid'))\n",
    "                correlation.append(np.max(cor))\n",
    "            avg_cor = sum(correlation)/len(signal_div)\n",
    "            \n",
    "            if avg_cor > max_corr:\n",
    "                max_corr = avg_cor\n",
    "                max_code_delay = code_delay\n",
    "                max_doppler_freq = doppler_freq\n",
    "                max_cor_lst = correlation\n",
    "                \n",
    "            replica = np.roll(replica, OV)\n",
    "    return max_corr, max_code_delay, max_doppler_freq, max_cor_lst\n",
    "            "
   ]
  },
  {
   "cell_type": "markdown",
   "metadata": {},
   "source": [
    "Acquisition 실행"
   ]
  },
  {
   "cell_type": "code",
   "execution_count": 115,
   "metadata": {},
   "outputs": [
    {
     "name": "stdout",
     "output_type": "stream",
     "text": [
      "----------------------------------------\n",
      "Target SV Number: 30\n",
      "True Code Delay: 9.0\n",
      "True doppler frequency: 0\n",
      "Maximum correlation: 10221.0\n",
      "Estimated code delay: 9.0\n",
      "Estimated Doppler frequency: 0.0\n",
      "Est_cor_lst : [10212.0, 10230.0, 10212.0, 10230.0, 10212.0, 10230.0, 10212.0, 10230.0, 10212.0, 10230.0, 10212.0, 10230.0, 10212.0, 10230.0, 10212.0, 10230.0, 10212.0, 10230.0, 10212.0, 10230.0]\n"
     ]
    }
   ],
   "source": [
    "# Parameters\n",
    "code_delay_range = np.arange(0, 200*OV, OV)  # Range of code delay in chips\n",
    "doppler_freq_range = np.linspace(-5000, 5000, 21)  # Adjusted range of Doppler frequency in Hz\n",
    "code_freq = 1.023e6  # Code frequency in Hz\n",
    "svNumber = RN\n",
    "\n",
    "# Generate received signal\n",
    "true_code_delay = rand.randint(0,200*OV)\n",
    "\n",
    "# true_doppler_freq = rand.randint(-5000,5000)\n",
    "# true_doppler_freq = rand.sample(range(-5000, 5000, 500), 1)[0]\n",
    "true_doppler_freq = 0\n",
    "\n",
    "received_signal = generate_transmitted_signal(true_code_delay, true_doppler_freq, svNumber, code_freq, 1023*20*(ms//20)*OV)\n",
    "\n",
    "# Perform acquisition\n",
    "max_corr, estimated_code_delay, estimated_doppler_freq, est_cor_lst= acquisition(received_signal, code_delay_range, doppler_freq_range, code_freq, svNumber,1023*20*(ms//20)*OV,OV)\n",
    "\n",
    "print(\"-\"*40)\n",
    "print(\"Target SV Number:\", svNumber + 1)\n",
    "print(\"True Code Delay:\", true_code_delay/OV)\n",
    "print(\"True doppler frequency:\", true_doppler_freq)\n",
    "print(\"Maximum correlation:\", max_corr)\n",
    "print(\"Estimated code delay:\", estimated_code_delay/OV)\n",
    "print(\"Estimated Doppler frequency:\", estimated_doppler_freq)\n",
    "print('Est_cor_lst :',est_cor_lst)"
   ]
  },
  {
   "cell_type": "markdown",
   "metadata": {},
   "source": [
    "## 잠깐 plot해보기(그냥)"
   ]
  },
  {
   "cell_type": "code",
   "execution_count": 116,
   "metadata": {},
   "outputs": [
    {
     "name": "stdout",
     "output_type": "stream",
     "text": [
      "[-1.+0.j  1.+0.j -1.+0.j ...  1.+0.j -1.+0.j  1.+0.j]\n"
     ]
    },
    {
     "data": {
      "image/png": "[encoded data removed]",
      "text/plain": [
       "<Figure size 1000x600 with 2 Axes>"
      ]
     },
     "metadata": {},
     "output_type": "display_data"
    }
   ],
   "source": [
    "print(received_signal)\n",
    "plt.figure(figsize=(10, 6))\n",
    "\n",
    "# Extract real and imaginary parts separately\n",
    "real_part = np.real(received_signal[:])\n",
    "imaginary_part = np.imag(received_signal[:])\n",
    "\n",
    "# Plot the real part\n",
    "plt.subplot(2, 1, 1)\n",
    "plt.plot(real_part, label='Real Part', color='blue')\n",
    "plt.xlabel('Time')\n",
    "plt.ylabel('Value')\n",
    "plt.title('Real Part of Received Signal')\n",
    "plt.legend()\n",
    "\n",
    "# Plot the imaginary part\n",
    "plt.subplot(2, 1, 2)\n",
    "plt.plot(imaginary_part, label='Imaginary Part', color='red')\n",
    "plt.xlabel('Time')\n",
    "plt.ylabel('Value')\n",
    "plt.title('Imaginary Part of Received Signal')\n",
    "plt.legend()\n",
    "\n",
    "plt.tight_layout()\n",
    "plt.show()"
   ]
  },
  {
   "cell_type": "code",
   "execution_count": 117,
   "metadata": {},
   "outputs": [
    {
     "data": {
      "image/png": "[encoded data removed]",
      "text/plain": [
       "<Figure size 800x600 with 1 Axes>"
      ]
     },
     "metadata": {},
     "output_type": "display_data"
    }
   ],
   "source": [
    "plt.figure(figsize=(8, 6))\n",
    "plt.scatter(np.real(received_signal[:1023]), np.imag(received_signal[:1023]), s=5)\n",
    "\n",
    "for i, txt in enumerate(range(1, 0 + 8)):\n",
    "    plt.annotate(f'{txt}', (np.real(received_signal[i]), np.imag(received_signal[i])))\n",
    "    \n",
    "plt.title(\"Complex signal in the Complex Plane\")\n",
    "plt.xlabel(\"Real Part\")\n",
    "plt.ylabel(\"Imaginary Part\")\n",
    "plt.grid(True)\n",
    "plt.show()"
   ]
  },
  {
   "cell_type": "markdown",
   "metadata": {},
   "source": [
    "## 병렬구조 만들기 (Demod, DLL 하기 전)"
   ]
  },
  {
   "cell_type": "code",
   "execution_count": 118,
   "metadata": {},
   "outputs": [],
   "source": [
    "# 적분 범위 설정\n",
    "LF = 5 # 100ms: 20ms안에서 corr 구한 것 -> 5개를 합쳐서 / 평균 구하기\n",
    "        # (맥락상 이게 loop filter와 유사한 것 같음. 구간이 넓을 수록 추정은 빨라지지만, jitter가 심한 점, 좁을 수록 오래 걸리지만, jitter가 약한 점 생각해보면)\n",
    "        # 물론 잡음 먹였을 때 얘기임\n",
    "        \n",
    "INT = 20 # 20ms동안 적분하도록 재설정(1bit씩, Demod를 위해서)\n",
    "# 평균을 구하는 작업 하나, 각각 1bit씩은 따로 demod하는 작업 하나\n",
    "# 옮겨다니는 건 어떻게 해야하지>>???>?????"
   ]
  },
  {
   "cell_type": "markdown",
   "metadata": {},
   "source": [
    "신호를 I, Q로 쪼갠 뒤 각각을 계산해야함"
   ]
  },
  {
   "cell_type": "code",
   "execution_count": 119,
   "metadata": {},
   "outputs": [],
   "source": [
    "def spliter(signal):\n",
    "    return np.real(signal), np.imag(signal)\n",
    "\n",
    "cur_code_delay = estimated_code_delay\n",
    "\n",
    "E = generate_replica_signal(cur_code_delay - (OV // 2), estimated_doppler_freq, code_freq, svNumber)\n",
    "P = generate_replica_signal(cur_code_delay, estimated_doppler_freq, code_freq, svNumber)\n",
    "L = generate_replica_signal(cur_code_delay + (OV // 2), estimated_doppler_freq, code_freq, svNumber)\n",
    "\n",
    "Real_E, Imag_E = spliter(E)\n",
    "Real_P, Imag_P = spliter(P)\n",
    "Real_L, Imag_L = spliter(L)\n",
    "\n",
    "signal_div_Real = [real_part[i:i+(1023*INT*OV)] for i in range(0,len(real_part), 1023*INT*OV)]\n",
    "signal_div_Imaginary = [imaginary_part[i:i+(1023*INT*OV)] for i in range(0,len(imaginary_part), 1023*INT*OV)]\n",
    "\n",
    "def I_and_D(signal, replica):\n",
    "    correlation = []\n",
    "    for lst in signal:\n",
    "        cor = correlate(lst, replica,mode='valid')\n",
    "        correlation.append(np.max(cor))\n",
    "    return list(correlation)\n",
    "\n",
    "I_E = I_and_D(signal_div_Real, Real_E)\n",
    "Q_E = I_and_D(signal_div_Imaginary, Imag_E)\n",
    "I_P = I_and_D(signal_div_Real, Real_P)\n",
    "Q_P = I_and_D(signal_div_Imaginary, Imag_P)\n",
    "I_L = I_and_D(signal_div_Real, Real_L)\n",
    "Q_L = I_and_D(signal_div_Imaginary, Imag_L)\n"
   ]
  },
  {
   "cell_type": "markdown",
   "metadata": {},
   "source": [
    "Demodulation"
   ]
  },
  {
   "cell_type": "code",
   "execution_count": 120,
   "metadata": {},
   "outputs": [
    {
     "name": "stdout",
     "output_type": "stream",
     "text": [
      "data : 1 -1 1 -1 1 -1 1 -1 1 -1\n",
      "est : 1 -1 1 -1 1 -1 1 -1 1 -1\n"
     ]
    }
   ],
   "source": [
    "Prompt = []\n",
    "for i in range(len(I_P)):\n",
    "    if I_P[i] > 0:\n",
    "        Prompt.append(1)\n",
    "    else:\n",
    "        Prompt.append(-1)\n",
    "\n",
    "print('data :', *data, sep = \" \")\n",
    "print('est :', *Prompt, sep = \" \")\n"
   ]
  },
  {
   "cell_type": "markdown",
   "metadata": {},
   "source": [
    "## Tracking loop test"
   ]
  },
  {
   "cell_type": "markdown",
   "metadata": {},
   "source": [
    "fine frequency estimation (FLL)"
   ]
  },
  {
   "cell_type": "code",
   "execution_count": 121,
   "metadata": {},
   "outputs": [],
   "source": [
    "#input 재정의: \n",
    "#kLargest = doppler주파수estimation한걸로 넣\n",
    "#data = received_signal로 넣ㅇㅇ\n",
    "#GPS_fs = 샘플링 주파수 넣ㅇㅇ(아마?)\n",
    "\n",
    "\n",
    "def GetFineFrequency(data, kLargest, GPS_fs): # now passed in data class\n",
    "    # Performs fine-frequency estimation. In this case, data will be a slice\n",
    "    # of data (probably same length of data that was used in the circular\n",
    "    # cross-correlation)\n",
    "\n",
    "\n",
    "    # Perform DFT on each of the ms of data (5 total), at kLargest frequency.\n",
    "    # Uses variables from medium-frequency, so if they change, may need to re-create below.\n",
    "    X = []\n",
    "    PhaseAngle = []\n",
    "    numMSmf = 1 # num ms for medium-frequency estimation\n",
    "    Nmf = int(np.ceil(numMSmf*0.001*GPS_fs))  # num of samples to use for medium-frequency estimation (and DFT)\n",
    "    # Create sampled time array for DFT\n",
    "    Ts = 1/GPS_fs\n",
    "    nTs = np.linspace(0,Ts*(Nmf + 1),Nmf,endpoint=False)\n",
    "    \n",
    "    for i in range(0,5):\n",
    "        X.append(sum(data[i*1023:(i+1)*1023]*np.exp(-2*np.pi*1j*kLargest*nTs)))\n",
    "        PhaseAngle.append(np.arctan(np.imag(X[i])/np.real(X[i])))\n",
    "        print(\"Magnitude: %f\" %X[i])\n",
    "        print(\"Phase Angle: %f\" %PhaseAngle[i])\n",
    "\n",
    "    # Get difference angles\n",
    "    PhaseDiff = []\n",
    "    for i in range(1,5):\n",
    "        PhaseDiff.append(PhaseAngle[i]-PhaseAngle[i-1])\n",
    "        print(\"Phase difference %d, is: %f\"%((i-1),PhaseDiff[i-1]))\n",
    "\n",
    "\n",
    "    PhaseThreshold = (2.3*np.pi)/5\n",
    "    for (i,curPhaseDiff) in enumerate(PhaseDiff):\n",
    "        if np.abs(curPhaseDiff) > PhaseThreshold:\n",
    "            curPhaseDiff = PhaseDiff[i] - 2*np.pi\n",
    "            if np.abs(curPhaseDiff) > PhaseThreshold:\n",
    "                curPhaseDiff = PhaseDiff[i] + 2*np.pi\n",
    "                if np.abs(curPhaseDiff) > (2.2*np.pi)/5:\n",
    "                    curPhaseDiff = PhaseDiff[i] - np.pi\n",
    "                    if np.abs(curPhaseDiff) > PhaseThreshold:\n",
    "                        curPhaseDiff = PhaseDiff[i] - 3*np.pi\n",
    "                        if np.abs(curPhaseDiff) > PhaseThreshold:\n",
    "                            curPhaseDiff = PhaseDiff[i] + np.pi\n",
    "        PhaseDiff[i] = curPhaseDiff\n",
    "    fList = (np.array(PhaseDiff)/(2*np.pi*0.001))\n",
    "    print(fList)\n",
    "    print()\n",
    "    print(np.mean(fList))\n",
    "\n",
    "    FineFrequencyEst = (np.mean(fList)) #각 데이터 슬라이스에서 계산된 위상 차이에 대한 주파수 변화율\n",
    "    return FineFrequencyEst\n"
   ]
  },
  {
   "cell_type": "code",
   "execution_count": 122,
   "metadata": {},
   "outputs": [
    {
     "name": "stdout",
     "output_type": "stream",
     "text": [
      "10\n",
      "Magnitude: 7.000000\n",
      "Phase Angle: 0.000000\n",
      "Magnitude: 1.000000\n",
      "Phase Angle: 0.000000\n",
      "Magnitude: 1.000000\n",
      "Phase Angle: 0.000000\n",
      "Magnitude: 1.000000\n",
      "Phase Angle: 0.000000\n",
      "Magnitude: 1.000000\n",
      "Phase Angle: 0.000000\n",
      "Phase difference 0, is: 0.000000\n",
      "Phase difference 1, is: 0.000000\n",
      "Phase difference 2, is: 0.000000\n",
      "Phase difference 3, is: 0.000000\n",
      "[0. 0. 0. 0.]\n",
      "\n",
      "0.0\n",
      "\n",
      "0.0\n",
      "frequency 추정 완료\n"
     ]
    },
    {
     "name": "stderr",
     "output_type": "stream",
     "text": [
      "C:\\Users\\Admin\\AppData\\Local\\Temp\\ipykernel_22948\\1995631675.py:26: ComplexWarning: Casting complex values to real discards the imaginary part\n",
      "  print(\"Magnitude: %f\" %X[i])\n"
     ]
    }
   ],
   "source": [
    "kLargest = estimated_doppler_freq\n",
    "GPS_fs= code_freq\n",
    "print(len(data))\n",
    "FineFrequencyEst = GetFineFrequency(received_signal, kLargest, GPS_fs)\n",
    "\n",
    "print()\n",
    "print(FineFrequencyEst + estimated_doppler_freq)\n",
    "print(\"frequency 추정 완료\")\n",
    "\n"
   ]
  }
 ],
 "metadata": {
  "kernelspec": {
   "display_name": "Python 3",
   "language": "python",
   "name": "python3"
  },
  "language_info": {
   "codemirror_mode": {
    "name": "ipython",
    "version": 3
   },
   "file_extension": ".py",
   "mimetype": "text/x-python",
   "name": "python",
   "nbconvert_exporter": "python",
   "pygments_lexer": "ipython3",
   "version": "3.12.2"
  }
 },
 "nbformat": 4,
 "nbformat_minor": 2
}
